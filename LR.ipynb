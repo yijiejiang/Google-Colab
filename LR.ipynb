{
  "nbformat": 4,
  "nbformat_minor": 0,
  "metadata": {
    "colab": {
      "name": "LR.ipynb",
      "provenance": [],
      "collapsed_sections": [],
      "authorship_tag": "ABX9TyOCBt9xC07vzDsBHsUtmsCy",
      "include_colab_link": true
    },
    "kernelspec": {
      "name": "python3",
      "display_name": "Python 3"
    },
    "language_info": {
      "name": "python"
    }
  },
  "cells": [
    {
      "cell_type": "markdown",
      "metadata": {
        "id": "view-in-github",
        "colab_type": "text"
      },
      "source": [
        "<a href=\"https://colab.research.google.com/github/yijiejiang/Google-Colab/blob/master/LR.ipynb\" target=\"_parent\"><img src=\"https://colab.research.google.com/assets/colab-badge.svg\" alt=\"Open In Colab\"/></a>"
      ]
    },
    {
      "cell_type": "code",
      "source": [
        "import torch"
      ],
      "metadata": {
        "id": "Tnc7sI_BmpvH"
      },
      "execution_count": 16,
      "outputs": []
    },
    {
      "cell_type": "code",
      "source": [
        "import random"
      ],
      "metadata": {
        "id": "CLt6EnOa1lTZ"
      },
      "execution_count": 17,
      "outputs": []
    },
    {
      "cell_type": "markdown",
      "source": [
        "创建默认标签"
      ],
      "metadata": {
        "id": "Txg1f4XIjCx_"
      }
    },
    {
      "cell_type": "code",
      "source": [
        "true_W1 = torch.tensor([2.323, -3.1134])\n",
        "true_W2 = torch.tensor([10.231, -99.4])\n",
        "true_b = 6.66"
      ],
      "metadata": {
        "id": "N3QGKPnyiwkD"
      },
      "execution_count": 18,
      "outputs": []
    },
    {
      "cell_type": "markdown",
      "source": [
        "生成数据集"
      ],
      "metadata": {
        "id": "tMdNiszujVua"
      }
    },
    {
      "cell_type": "code",
      "source": [
        "def synthetic_data(W1, W2, b, num_examples):\n",
        "  X = torch.normal(0, 1, (num_examples, len(W1)))\n",
        "  y = torch.matmul(X ** 2, W1) + torch.matmul(X, W2) + b\n",
        "  y += torch.normal(0, 0.01, y.shape)\n",
        "  return X, y.reshape((-1, 1))"
      ],
      "metadata": {
        "id": "0hr9fY2QjTZp"
      },
      "execution_count": 19,
      "outputs": []
    },
    {
      "cell_type": "markdown",
      "source": [
        "生成数据与标签"
      ],
      "metadata": {
        "id": "PCNCefCujnzM"
      }
    },
    {
      "cell_type": "code",
      "source": [
        "features, labels = synthetic_data(true_W1, true_W2, true_b, 100000)"
      ],
      "metadata": {
        "id": "sizO4pKTjnUS"
      },
      "execution_count": 20,
      "outputs": []
    },
    {
      "cell_type": "markdown",
      "source": [
        "数据处理"
      ],
      "metadata": {
        "id": "Npe5oGIRmURk"
      }
    },
    {
      "cell_type": "code",
      "source": [
        "def data_iter(batch_size, features, labels):\n",
        "  num_examples = len(features)\n",
        "  indices = list(range(num_examples))\n",
        "  random.shuffle(indices)\n",
        "  for i in range(0, num_examples, batch_size):\n",
        "      batch_indices = torch.tensor(\n",
        "          indices[i: min(i + batch_size, num_examples)])\n",
        "      yield features[batch_indices], labels[batch_indices]"
      ],
      "metadata": {
        "id": "y-co-uo7mT8z"
      },
      "execution_count": 21,
      "outputs": []
    },
    {
      "cell_type": "markdown",
      "source": [
        "构建模型"
      ],
      "metadata": {
        "id": "Yxlcf2MXjzAG"
      }
    },
    {
      "cell_type": "code",
      "source": [
        "def get_model(X, W1, W2, b):\n",
        "  return torch.matmul(X ** 2, W1) + torch.matmul(X, W2) + b"
      ],
      "metadata": {
        "id": "A4AAZ14LkDe4"
      },
      "execution_count": 22,
      "outputs": []
    },
    {
      "cell_type": "code",
      "source": [
        "net = get_model"
      ],
      "metadata": {
        "id": "UrjdLFlOkNx3"
      },
      "execution_count": 23,
      "outputs": []
    },
    {
      "cell_type": "markdown",
      "source": [
        "初始化参数"
      ],
      "metadata": {
        "id": "cQo1C4jlkZQD"
      }
    },
    {
      "cell_type": "code",
      "source": [
        "def init_parameters():\n",
        "  W1 = torch.normal(0, 0.01, size=(2, 1), requires_grad=True)\n",
        "  W2 = torch.normal(0, 0.01, size=(2, 1), requires_grad=True)\n",
        "  B = torch.zeros(1, requires_grad=True)\n",
        "  return W1, W2, B"
      ],
      "metadata": {
        "id": "cJQ-AfiRkTxX"
      },
      "execution_count": 24,
      "outputs": []
    },
    {
      "cell_type": "code",
      "source": [
        "W1, W2, B = init_parameters()"
      ],
      "metadata": {
        "id": "LaxYyYvXkeac"
      },
      "execution_count": 25,
      "outputs": []
    },
    {
      "cell_type": "markdown",
      "source": [
        "创建损失函数"
      ],
      "metadata": {
        "id": "A-7hW8mnkiLU"
      }
    },
    {
      "cell_type": "code",
      "source": [
        "def get_loss(y_hat, y):\n",
        "  \"\"\"均方损失\"\"\"\n",
        "  return (y_hat - y.reshape(y_hat.shape)) ** 2 / 2"
      ],
      "metadata": {
        "id": "xZKaqWvDkqgu"
      },
      "execution_count": 26,
      "outputs": []
    },
    {
      "cell_type": "code",
      "source": [
        "loss = get_loss"
      ],
      "metadata": {
        "id": "cD02lUVjktdx"
      },
      "execution_count": 27,
      "outputs": []
    },
    {
      "cell_type": "markdown",
      "source": [
        "创建优化器"
      ],
      "metadata": {
        "id": "FfdOjDhYmy49"
      }
    },
    {
      "cell_type": "code",
      "source": [
        "def sgd(params, lr, batch_size):\n",
        "    \"\"\"小批量随机梯度下降\"\"\"\n",
        "    with torch.no_grad():\n",
        "        for param in params:\n",
        "            param -= lr * param.grad / batch_size\n",
        "            param.grad.zero_()"
      ],
      "metadata": {
        "id": "ahhoCAYxm30j"
      },
      "execution_count": 28,
      "outputs": []
    },
    {
      "cell_type": "markdown",
      "source": [
        "开始训练"
      ],
      "metadata": {
        "id": "kRXAp_Col5BZ"
      }
    },
    {
      "cell_type": "code",
      "source": [
        "batch_size = 10\n",
        "lr = 0.0001\n",
        "for epoch in range(10):\n",
        "    for X, y in data_iter(batch_size, features, labels):\n",
        "        l = loss(net(X, W1, W2, B), y)  # X和y的小批量损失\n",
        "        # 因为l形状是(batch_size,1)，而不是一个标量。l中的所有元素被加到一起，\n",
        "        # 并以此计算关于[w,b]的梯度\n",
        "        l.sum().backward()\n",
        "        sgd([W1, W2, B], lr, batch_size)  # 使用参数的梯度更新参数\n",
        "    with torch.no_grad():\n",
        "        train_l = loss(net(features, W1, W2, B), labels)\n",
        "        print(f'epoch {epoch + 1}, loss {float(train_l.mean()):f}')\n",
        "\n",
        "print(f'w的估计误差: {true_W1 - W1.reshape(true_W1.shape)}')\n",
        "print(f'b的估计误差: {true_b - B}')"
      ],
      "metadata": {
        "colab": {
          "base_uri": "https://localhost:8080/",
          "height": 0
        },
        "id": "CQaPG4Y6l9Yt",
        "outputId": "f46860bb-f59c-4d08-a093-25700e97da0b"
      },
      "execution_count": 29,
      "outputs": [
        {
          "output_type": "stream",
          "name": "stdout",
          "text": [
            "epoch 1, loss 675.207520\n",
            "epoch 2, loss 91.239822\n",
            "epoch 3, loss 12.655132\n",
            "epoch 4, loss 1.889470\n",
            "epoch 5, loss 0.336106\n",
            "epoch 6, loss 0.079855\n",
            "epoch 7, loss 0.025263\n",
            "epoch 8, loss 0.009496\n",
            "epoch 9, loss 0.003871\n",
            "epoch 10, loss 0.001636\n",
            "w的估计误差: tensor([-0.0220, -0.0221], grad_fn=<SubBackward0>)\n",
            "b的估计误差: tensor([0.0784], grad_fn=<RsubBackward1>)\n"
          ]
        }
      ]
    },
    {
      "cell_type": "code",
      "source": [
        "print(f'w: {W1.reshape(true_W1.shape)}')\n",
        "print(f'b: {B}')"
      ],
      "metadata": {
        "id": "m9BqI5sEl-dF",
        "colab": {
          "base_uri": "https://localhost:8080/",
          "height": 0
        },
        "outputId": "71095746-47f7-4b7d-d7eb-314344f8bceb"
      },
      "execution_count": 30,
      "outputs": [
        {
          "output_type": "stream",
          "name": "stdout",
          "text": [
            "w: tensor([ 2.3450, -3.0913], grad_fn=<ReshapeAliasBackward0>)\n",
            "b: tensor([6.5816], requires_grad=True)\n"
          ]
        }
      ]
    }
  ]
}